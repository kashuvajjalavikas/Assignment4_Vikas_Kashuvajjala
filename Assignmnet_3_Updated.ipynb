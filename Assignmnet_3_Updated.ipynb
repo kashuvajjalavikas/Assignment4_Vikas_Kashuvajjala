{
  "nbformat": 4,
  "nbformat_minor": 0,
  "metadata": {
    "colab": {
      "provenance": []
    },
    "kernelspec": {
      "name": "python3",
      "display_name": "Python 3"
    },
    "language_info": {
      "name": "python"
    }
  },
  "cells": [
    {
      "cell_type": "markdown",
      "source": [
        "Use any open-source API to access some data in Jason format and then parse the Jason data and\n",
        "display it as some kind of dashboard.\n",
        "\n",
        "a. When consuming APIs with Python, you may use python library: requests. With it, you\n",
        "should be able to do most, if not all, of the actions required to consume any public API (for\n",
        "example open weather API or Random User Generator API, or traffic API etc.) below are\n",
        "some examples of the real-time APIs:\n",
        "\n",
        "i. Amazon Price\n",
        "ii. Fixer Currency\n",
        "iii. TheRunDown\n",
        "iv. OpenAPI 1.2\n",
        "v. Zillow\n",
        "vi. Sportspage Feeds\n",
        "vii. Nexmo Number Insight\n",
        "viii. Google Shopping\n",
        "\n",
        "b. To display the data you may use python library Dash or some other library.\n",
        "\n",
        "\n"
      ],
      "metadata": {
        "id": "MbrmxvzVdLP9"
      }
    },
    {
      "cell_type": "code",
      "source": [
        "pip install dash"
      ],
      "metadata": {
        "colab": {
          "base_uri": "https://localhost:8080/"
        },
        "id": "uNxc--4Kct0G",
        "outputId": "c225e910-8185-4579-f7cb-7bf8eefec2b2"
      },
      "execution_count": 13,
      "outputs": [
        {
          "output_type": "stream",
          "name": "stdout",
          "text": [
            "Requirement already satisfied: dash in /usr/local/lib/python3.10/dist-packages (2.16.1)\n",
            "Requirement already satisfied: Flask<3.1,>=1.0.4 in /usr/local/lib/python3.10/dist-packages (from dash) (2.2.5)\n",
            "Requirement already satisfied: Werkzeug<3.1 in /usr/local/lib/python3.10/dist-packages (from dash) (3.0.2)\n",
            "Requirement already satisfied: plotly>=5.0.0 in /usr/local/lib/python3.10/dist-packages (from dash) (5.15.0)\n",
            "Requirement already satisfied: dash-html-components==2.0.0 in /usr/local/lib/python3.10/dist-packages (from dash) (2.0.0)\n",
            "Requirement already satisfied: dash-core-components==2.0.0 in /usr/local/lib/python3.10/dist-packages (from dash) (2.0.0)\n",
            "Requirement already satisfied: dash-table==5.0.0 in /usr/local/lib/python3.10/dist-packages (from dash) (5.0.0)\n",
            "Requirement already satisfied: importlib-metadata in /usr/local/lib/python3.10/dist-packages (from dash) (7.1.0)\n",
            "Requirement already satisfied: typing-extensions>=4.1.1 in /usr/local/lib/python3.10/dist-packages (from dash) (4.11.0)\n",
            "Requirement already satisfied: requests in /usr/local/lib/python3.10/dist-packages (from dash) (2.31.0)\n",
            "Requirement already satisfied: retrying in /usr/local/lib/python3.10/dist-packages (from dash) (1.3.4)\n",
            "Requirement already satisfied: nest-asyncio in /usr/local/lib/python3.10/dist-packages (from dash) (1.6.0)\n",
            "Requirement already satisfied: setuptools in /usr/local/lib/python3.10/dist-packages (from dash) (67.7.2)\n",
            "Requirement already satisfied: Jinja2>=3.0 in /usr/local/lib/python3.10/dist-packages (from Flask<3.1,>=1.0.4->dash) (3.1.3)\n",
            "Requirement already satisfied: itsdangerous>=2.0 in /usr/local/lib/python3.10/dist-packages (from Flask<3.1,>=1.0.4->dash) (2.1.2)\n",
            "Requirement already satisfied: click>=8.0 in /usr/local/lib/python3.10/dist-packages (from Flask<3.1,>=1.0.4->dash) (8.1.7)\n",
            "Requirement already satisfied: tenacity>=6.2.0 in /usr/local/lib/python3.10/dist-packages (from plotly>=5.0.0->dash) (8.2.3)\n",
            "Requirement already satisfied: packaging in /usr/local/lib/python3.10/dist-packages (from plotly>=5.0.0->dash) (24.0)\n",
            "Requirement already satisfied: MarkupSafe>=2.1.1 in /usr/local/lib/python3.10/dist-packages (from Werkzeug<3.1->dash) (2.1.5)\n",
            "Requirement already satisfied: zipp>=0.5 in /usr/local/lib/python3.10/dist-packages (from importlib-metadata->dash) (3.18.1)\n",
            "Requirement already satisfied: charset-normalizer<4,>=2 in /usr/local/lib/python3.10/dist-packages (from requests->dash) (3.3.2)\n",
            "Requirement already satisfied: idna<4,>=2.5 in /usr/local/lib/python3.10/dist-packages (from requests->dash) (3.6)\n",
            "Requirement already satisfied: urllib3<3,>=1.21.1 in /usr/local/lib/python3.10/dist-packages (from requests->dash) (2.0.7)\n",
            "Requirement already satisfied: certifi>=2017.4.17 in /usr/local/lib/python3.10/dist-packages (from requests->dash) (2024.2.2)\n",
            "Requirement already satisfied: six>=1.7.0 in /usr/local/lib/python3.10/dist-packages (from retrying->dash) (1.16.0)\n"
          ]
        }
      ]
    },
    {
      "cell_type": "markdown",
      "source": [
        "Dash is used to quickly create a web-based dashboard for visualizing data retrieved from an API. It simplifies the process of building interactive and customizable data-driven applications using Python, making it an ideal choice for displaying API data in a user-friendly format. Dash facilitates layout creation, data presentation, interactivity, and seamless integration with Python, enabling efficient development of web-based dashboards."
      ],
      "metadata": {
        "id": "GDNzKIN8dfpW"
      }
    },
    {
      "cell_type": "code",
      "source": [
        "pip install dash-bootstrap-components\n"
      ],
      "metadata": {
        "colab": {
          "base_uri": "https://localhost:8080/"
        },
        "id": "XQHrJBlNb7VM",
        "outputId": "d57c075c-570e-45d5-f3b0-0b9bde53fcf6"
      },
      "execution_count": 14,
      "outputs": [
        {
          "output_type": "stream",
          "name": "stdout",
          "text": [
            "Requirement already satisfied: dash-bootstrap-components in /usr/local/lib/python3.10/dist-packages (1.6.0)\n",
            "Requirement already satisfied: dash>=2.0.0 in /usr/local/lib/python3.10/dist-packages (from dash-bootstrap-components) (2.16.1)\n",
            "Requirement already satisfied: Flask<3.1,>=1.0.4 in /usr/local/lib/python3.10/dist-packages (from dash>=2.0.0->dash-bootstrap-components) (2.2.5)\n",
            "Requirement already satisfied: Werkzeug<3.1 in /usr/local/lib/python3.10/dist-packages (from dash>=2.0.0->dash-bootstrap-components) (3.0.2)\n",
            "Requirement already satisfied: plotly>=5.0.0 in /usr/local/lib/python3.10/dist-packages (from dash>=2.0.0->dash-bootstrap-components) (5.15.0)\n",
            "Requirement already satisfied: dash-html-components==2.0.0 in /usr/local/lib/python3.10/dist-packages (from dash>=2.0.0->dash-bootstrap-components) (2.0.0)\n",
            "Requirement already satisfied: dash-core-components==2.0.0 in /usr/local/lib/python3.10/dist-packages (from dash>=2.0.0->dash-bootstrap-components) (2.0.0)\n",
            "Requirement already satisfied: dash-table==5.0.0 in /usr/local/lib/python3.10/dist-packages (from dash>=2.0.0->dash-bootstrap-components) (5.0.0)\n",
            "Requirement already satisfied: importlib-metadata in /usr/local/lib/python3.10/dist-packages (from dash>=2.0.0->dash-bootstrap-components) (7.1.0)\n",
            "Requirement already satisfied: typing-extensions>=4.1.1 in /usr/local/lib/python3.10/dist-packages (from dash>=2.0.0->dash-bootstrap-components) (4.11.0)\n",
            "Requirement already satisfied: requests in /usr/local/lib/python3.10/dist-packages (from dash>=2.0.0->dash-bootstrap-components) (2.31.0)\n",
            "Requirement already satisfied: retrying in /usr/local/lib/python3.10/dist-packages (from dash>=2.0.0->dash-bootstrap-components) (1.3.4)\n",
            "Requirement already satisfied: nest-asyncio in /usr/local/lib/python3.10/dist-packages (from dash>=2.0.0->dash-bootstrap-components) (1.6.0)\n",
            "Requirement already satisfied: setuptools in /usr/local/lib/python3.10/dist-packages (from dash>=2.0.0->dash-bootstrap-components) (67.7.2)\n",
            "Requirement already satisfied: Jinja2>=3.0 in /usr/local/lib/python3.10/dist-packages (from Flask<3.1,>=1.0.4->dash>=2.0.0->dash-bootstrap-components) (3.1.3)\n",
            "Requirement already satisfied: itsdangerous>=2.0 in /usr/local/lib/python3.10/dist-packages (from Flask<3.1,>=1.0.4->dash>=2.0.0->dash-bootstrap-components) (2.1.2)\n",
            "Requirement already satisfied: click>=8.0 in /usr/local/lib/python3.10/dist-packages (from Flask<3.1,>=1.0.4->dash>=2.0.0->dash-bootstrap-components) (8.1.7)\n",
            "Requirement already satisfied: tenacity>=6.2.0 in /usr/local/lib/python3.10/dist-packages (from plotly>=5.0.0->dash>=2.0.0->dash-bootstrap-components) (8.2.3)\n",
            "Requirement already satisfied: packaging in /usr/local/lib/python3.10/dist-packages (from plotly>=5.0.0->dash>=2.0.0->dash-bootstrap-components) (24.0)\n",
            "Requirement already satisfied: MarkupSafe>=2.1.1 in /usr/local/lib/python3.10/dist-packages (from Werkzeug<3.1->dash>=2.0.0->dash-bootstrap-components) (2.1.5)\n",
            "Requirement already satisfied: zipp>=0.5 in /usr/local/lib/python3.10/dist-packages (from importlib-metadata->dash>=2.0.0->dash-bootstrap-components) (3.18.1)\n",
            "Requirement already satisfied: charset-normalizer<4,>=2 in /usr/local/lib/python3.10/dist-packages (from requests->dash>=2.0.0->dash-bootstrap-components) (3.3.2)\n",
            "Requirement already satisfied: idna<4,>=2.5 in /usr/local/lib/python3.10/dist-packages (from requests->dash>=2.0.0->dash-bootstrap-components) (3.6)\n",
            "Requirement already satisfied: urllib3<3,>=1.21.1 in /usr/local/lib/python3.10/dist-packages (from requests->dash>=2.0.0->dash-bootstrap-components) (2.0.7)\n",
            "Requirement already satisfied: certifi>=2017.4.17 in /usr/local/lib/python3.10/dist-packages (from requests->dash>=2.0.0->dash-bootstrap-components) (2024.2.2)\n",
            "Requirement already satisfied: six>=1.7.0 in /usr/local/lib/python3.10/dist-packages (from retrying->dash>=2.0.0->dash-bootstrap-components) (1.16.0)\n"
          ]
        }
      ]
    },
    {
      "cell_type": "markdown",
      "source": [
        "dash-bootstrap-components is used for styling the dashboard. It applies the Bootstrap theme to the dashboard layout, ensuring consistency and providing responsive design elements. While not strictly essential for displaying data, it helps in creating visually appealing dashboards with pre-built Bootstrap components and layouts."
      ],
      "metadata": {
        "id": "Oc-ccpsxeFk6"
      }
    },
    {
      "cell_type": "code",
      "source": [
        "pip install requests"
      ],
      "metadata": {
        "colab": {
          "base_uri": "https://localhost:8080/"
        },
        "id": "VwAdTCxlczDx",
        "outputId": "c182335a-850f-4c5f-9c78-10a2a9be4454"
      },
      "execution_count": 15,
      "outputs": [
        {
          "output_type": "stream",
          "name": "stdout",
          "text": [
            "Requirement already satisfied: requests in /usr/local/lib/python3.10/dist-packages (2.31.0)\n",
            "Requirement already satisfied: charset-normalizer<4,>=2 in /usr/local/lib/python3.10/dist-packages (from requests) (3.3.2)\n",
            "Requirement already satisfied: idna<4,>=2.5 in /usr/local/lib/python3.10/dist-packages (from requests) (3.6)\n",
            "Requirement already satisfied: urllib3<3,>=1.21.1 in /usr/local/lib/python3.10/dist-packages (from requests) (2.0.7)\n",
            "Requirement already satisfied: certifi>=2017.4.17 in /usr/local/lib/python3.10/dist-packages (from requests) (2024.2.2)\n"
          ]
        }
      ]
    },
    {
      "cell_type": "markdown",
      "source": [
        "requests library is utilized to send an HTTP GET request to an API endpoint. This request includes necessary parameters like the city and specific headers with the API key. Once the request is sent, the library handles receiving the API's response. Finally, the response is parsed to extract the JSON data containing air quality information for the specified city."
      ],
      "metadata": {
        "id": "5DtUPO9peUgq"
      }
    },
    {
      "cell_type": "code",
      "source": [
        "import requests\n",
        "\n",
        "# Fetching data from the API\n",
        "api_key = '2a0f569340mshce3cde31adbb755p1510e7jsn1921295d4ad9'\n",
        "headers = {\n",
        "    'X-RapidAPI-Key': api_key,\n",
        "    'X-RapidAPI-Host': 'air-quality-by-api-ninjas.p.rapidapi.com'\n",
        "}\n",
        "params = {'city': 'Seattle'}\n",
        "url = 'https://air-quality-by-api-ninjas.p.rapidapi.com/v1/airquality'\n",
        "\n",
        "response = requests.get(url, headers=headers, params=params)\n",
        "data = response.json()\n",
        "\n",
        "print(data)\n"
      ],
      "metadata": {
        "colab": {
          "base_uri": "https://localhost:8080/"
        },
        "id": "46tW9beVXrGP",
        "outputId": "1ab73833-0ae1-4ddb-f175-154a7192bb07"
      },
      "execution_count": 16,
      "outputs": [
        {
          "output_type": "stream",
          "name": "stdout",
          "text": [
            "{'CO': {'concentration': 263.69, 'aqi': 2}, 'NO2': {'concentration': 5.44, 'aqi': 6}, 'O3': {'concentration': 100.14, 'aqi': 162}, 'SO2': {'concentration': 1.21, 'aqi': 1}, 'PM2.5': {'concentration': 0.85, 'aqi': 2}, 'PM10': {'concentration': 1.84, 'aqi': 1}, 'overall_aqi': 162}\n"
          ]
        }
      ]
    },
    {
      "cell_type": "markdown",
      "source": [
        "It shows the process of fetching air quality data for Seattle from a designated API endpoint using the Python requests library. At the outset, the necessary libraries are imported, with requests being essential for handling HTTP requests. Next, the script sets up crucial parameters for the API request, including the API key, headers, and query parameters specifying the target city, which is Seattle in this instance. Following this setup, the requests.get() function is employed to send an HTTP GET request to the designated URL, incorporating the provided headers and parameters. Upon receiving a response from the API, the script extracts the JSON-formatted data using the .json() method, storing it in the data variable. Finally, the retrieved data, representing air quality information for Seattle, is printed to the console, providing insights into the city's current air quality conditions. Through this succinct process, the script efficiently retrieves and presents pertinent air quality data using the requests library in Python."
      ],
      "metadata": {
        "id": "ZHccjzt6eqwU"
      }
    },
    {
      "cell_type": "code",
      "source": [
        "import requests\n",
        "from dash import Dash, html, dcc\n",
        "import dash_bootstrap_components as dbc\n",
        "\n",
        "# Fetching data from the API\n",
        "api_key = '2a0f569340mshce3cde31adbb755p1510e7jsn1921295d4ad9'\n",
        "headers = {\n",
        "    'X-RapidAPI-Key': api_key,\n",
        "    'X-RapidAPI-Host': 'air-quality-by-api-ninjas.p.rapidapi.com'\n",
        "}\n",
        "params = {'city': 'Seattle'}\n",
        "url = 'https://air-quality-by-api-ninjas.p.rapidapi.com/v1/airquality'\n",
        "\n",
        "response = requests.get(url, headers=headers, params=params)\n",
        "data = response.json()\n",
        "\n",
        "# Creating the dashboard\n",
        "app = Dash(__name__, external_stylesheets=[dbc.themes.BOOTSTRAP])\n",
        "\n",
        "# Convert JSON data to list of html elements\n",
        "data_elements = [html.Div([\n",
        "    html.H3(key),\n",
        "    html.P(str(value)),\n",
        "]) for key, value in data.items()]\n",
        "\n",
        "app.layout = html.Div(children=[\n",
        "    html.H1(\"Air Quality Dashboard\"),\n",
        "    html.Div(data_elements),\n",
        "])\n",
        "\n",
        "if __name__ == '__main__':\n",
        "    app.run_server(debug=True)\n"
      ],
      "metadata": {
        "id": "NE3s5VHLZzxW",
        "colab": {
          "base_uri": "https://localhost:8080/",
          "height": 671
        },
        "outputId": "ed52f6e0-ab35-4cc9-c8d5-a09626b01b4b"
      },
      "execution_count": 17,
      "outputs": [
        {
          "output_type": "display_data",
          "data": {
            "text/plain": [
              "<IPython.core.display.Javascript object>"
            ],
            "application/javascript": [
              "(async (port, path, width, height, cache, element) => {\n",
              "    if (!google.colab.kernel.accessAllowed && !cache) {\n",
              "      return;\n",
              "    }\n",
              "    element.appendChild(document.createTextNode(''));\n",
              "    const url = await google.colab.kernel.proxyPort(port, {cache});\n",
              "    const iframe = document.createElement('iframe');\n",
              "    iframe.src = new URL(path, url).toString();\n",
              "    iframe.height = height;\n",
              "    iframe.width = width;\n",
              "    iframe.style.border = 0;\n",
              "    iframe.allow = [\n",
              "        'accelerometer',\n",
              "        'autoplay',\n",
              "        'camera',\n",
              "        'clipboard-read',\n",
              "        'clipboard-write',\n",
              "        'gyroscope',\n",
              "        'magnetometer',\n",
              "        'microphone',\n",
              "        'serial',\n",
              "        'usb',\n",
              "        'xr-spatial-tracking',\n",
              "    ].join('; ');\n",
              "    element.appendChild(iframe);\n",
              "  })(8050, \"/\", \"100%\", 650, false, window.element)"
            ]
          },
          "metadata": {}
        }
      ]
    },
    {
      "cell_type": "markdown",
      "source": [
        "It fetches air quality data for Seattle from an external API using the requests library. It then utilizes the Dash framework to create a dashboard for displaying the retrieved data. The script first sets up API request parameters, sends an HTTP GET request to the API endpoint, and extracts the JSON response. Using Dash, it converts the JSON data into HTML elements for display. The resulting dashboard presents key-value pairs of air quality information, providing a straightforward visualization of Seattle's air quality."
      ],
      "metadata": {
        "id": "snUq3hUxfOYE"
      }
    },
    {
      "cell_type": "code",
      "source": [],
      "metadata": {
        "id": "QPsENN9PaFUc"
      },
      "execution_count": 17,
      "outputs": []
    }
  ]
}
