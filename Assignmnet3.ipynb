{
  "nbformat": 4,
  "nbformat_minor": 0,
  "metadata": {
    "colab": {
      "provenance": []
    },
    "kernelspec": {
      "name": "python3",
      "display_name": "Python 3"
    },
    "language_info": {
      "name": "python"
    }
  },
  "cells": [
    {
      "cell_type": "code",
      "source": [
        "import requests\n",
        "\n",
        "# Fetching data from the API\n",
        "api_key = '2a0f569340mshce3cde31adbb755p1510e7jsn1921295d4ad9'\n",
        "headers = {\n",
        "    'X-RapidAPI-Key': api_key,\n",
        "    'X-RapidAPI-Host': 'air-quality-by-api-ninjas.p.rapidapi.com'\n",
        "}\n",
        "params = {'city': 'Seattle'}\n",
        "url = 'https://air-quality-by-api-ninjas.p.rapidapi.com/v1/airquality'\n",
        "\n",
        "response = requests.get(url, headers=headers, params=params)\n",
        "data = response.json()\n",
        "\n",
        "print(data)\n"
      ],
      "metadata": {
        "colab": {
          "base_uri": "https://localhost:8080/"
        },
        "id": "46tW9beVXrGP",
        "outputId": "709c18c9-17b3-45e2-f113-5e4f4dfb755b"
      },
      "execution_count": 18,
      "outputs": [
        {
          "output_type": "stream",
          "name": "stdout",
          "text": [
            "{'CO': {'concentration': 263.69, 'aqi': 2}, 'NO2': {'concentration': 5.44, 'aqi': 6}, 'O3': {'concentration': 100.14, 'aqi': 162}, 'SO2': {'concentration': 1.21, 'aqi': 1}, 'PM2.5': {'concentration': 0.85, 'aqi': 2}, 'PM10': {'concentration': 1.84, 'aqi': 1}, 'overall_aqi': 162}\n"
          ]
        }
      ]
    },
    {
      "cell_type": "code",
      "source": [
        "import requests\n",
        "from dash import Dash, html, dcc\n",
        "import dash_bootstrap_components as dbc\n",
        "\n",
        "# Fetching data from the API\n",
        "api_key = '2a0f569340mshce3cde31adbb755p1510e7jsn1921295d4ad9'\n",
        "headers = {\n",
        "    'X-RapidAPI-Key': api_key,\n",
        "    'X-RapidAPI-Host': 'air-quality-by-api-ninjas.p.rapidapi.com'\n",
        "}\n",
        "params = {'city': 'Seattle'}\n",
        "url = 'https://air-quality-by-api-ninjas.p.rapidapi.com/v1/airquality'\n",
        "\n",
        "response = requests.get(url, headers=headers, params=params)\n",
        "data = response.json()\n",
        "\n",
        "# Creating the dashboard\n",
        "app = Dash(__name__, external_stylesheets=[dbc.themes.BOOTSTRAP])\n",
        "\n",
        "# Convert JSON data to list of html elements\n",
        "data_elements = [html.Div([\n",
        "    html.H3(key),\n",
        "    html.P(str(value)),\n",
        "]) for key, value in data.items()]\n",
        "\n",
        "app.layout = html.Div(children=[\n",
        "    html.H1(\"Air Quality Dashboard\"),\n",
        "    html.Div(data_elements),\n",
        "])\n",
        "\n",
        "if __name__ == '__main__':\n",
        "    app.run_server(debug=True)\n"
      ],
      "metadata": {
        "id": "NE3s5VHLZzxW",
        "colab": {
          "base_uri": "https://localhost:8080/",
          "height": 671
        },
        "outputId": "f8feda8d-a7c7-4a2f-cfa3-82ef3680aa83"
      },
      "execution_count": 20,
      "outputs": [
        {
          "output_type": "display_data",
          "data": {
            "text/plain": [
              "<IPython.core.display.Javascript object>"
            ],
            "application/javascript": [
              "(async (port, path, width, height, cache, element) => {\n",
              "    if (!google.colab.kernel.accessAllowed && !cache) {\n",
              "      return;\n",
              "    }\n",
              "    element.appendChild(document.createTextNode(''));\n",
              "    const url = await google.colab.kernel.proxyPort(port, {cache});\n",
              "    const iframe = document.createElement('iframe');\n",
              "    iframe.src = new URL(path, url).toString();\n",
              "    iframe.height = height;\n",
              "    iframe.width = width;\n",
              "    iframe.style.border = 0;\n",
              "    iframe.allow = [\n",
              "        'accelerometer',\n",
              "        'autoplay',\n",
              "        'camera',\n",
              "        'clipboard-read',\n",
              "        'clipboard-write',\n",
              "        'gyroscope',\n",
              "        'magnetometer',\n",
              "        'microphone',\n",
              "        'serial',\n",
              "        'usb',\n",
              "        'xr-spatial-tracking',\n",
              "    ].join('; ');\n",
              "    element.appendChild(iframe);\n",
              "  })(8050, \"/\", \"100%\", 650, false, window.element)"
            ]
          },
          "metadata": {}
        }
      ]
    },
    {
      "cell_type": "code",
      "source": [],
      "metadata": {
        "id": "QPsENN9PaFUc"
      },
      "execution_count": 20,
      "outputs": []
    }
  ]
}